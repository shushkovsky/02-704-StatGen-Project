{
 "cells": [
  {
   "cell_type": "markdown",
   "metadata": {},
   "source": [
    "# Introduction to Statistical Genetics\n",
    "## 02-404/02-704, Fall 2024\n",
    "## Code and Data File Documentation\n",
    "\n",
    "For all homework assignments for this course, you are able to use the provided file `CB_02704.py` which contains several pre-defined functions for your use. A common dataset containing genetic data is also provided that should be used.\n",
    "\n",
    "At the beginning of `CB_02704.py`, set the path variable to the directory in which you store your data, for example:\n",
    "\n",
    "```python\n",
    "path = \"Users/jonathanzhu/Documents/statgen/data\n",
    "```\n",
    "\n",
    "You can then import this file using `import CB_02704` or `from CB_02704 import *`, depending on your preferences."
   ]
  },
  {
   "cell_type": "code",
   "execution_count": 1,
   "metadata": {},
   "outputs": [
    {
     "name": "stderr",
     "output_type": "stream",
     "text": [
      "/opt/anaconda3/lib/python3.9/site-packages/scipy/__init__.py:146: UserWarning: A NumPy version >=1.16.5 and <1.23.0 is required for this version of SciPy (detected version 1.26.4\n",
      "  warnings.warn(f\"A NumPy version >={np_minversion} and <{np_maxversion}\"\n"
     ]
    }
   ],
   "source": [
    "#we opt for the latter\n",
    "from CB_02704 import *"
   ]
  },
  {
   "cell_type": "markdown",
   "metadata": {},
   "source": [
    "### About Data Files\n",
    "The provided dataset includes files of three different types. These will end with `.snp`, `.ind`, or `.geno`, and the preceding name will correspond to the population from which the data are derived. The list of populations is as follows:\n",
    "\n",
    "* ASW: African-Americans in the USA\n",
    "* CEU: northern Europeans in the USA\n",
    "* CHB: Chinese in China\n",
    "* CHD: Chinese in the USA\n",
    "* GIH: Gujarati-Americans in the USA\n",
    "* HapMap3: the 1,260 samples from 11 populations collected in the HapMap3 Project.\n",
    "* JPT: Japanese in Japan\n",
    "* LWK: Luhya in Kenya\n",
    "* MKK: Maasai in Kenya\n",
    "* MXL: Mexican-Americans in the USA\n",
    "* TSI: Tuscan in Italy\n",
    "* YRI: Yoruba in Nigeria\n",
    "\n",
    "Each of these populations has three files. We go over the types, and the functions that work with them, here:\n",
    "\n",
    "#### .snp Files\n",
    "All files ending with `.snp` specify a specific SNP, a chromosome number, a column of zeroes, and a physical position on the chromosome, followed by the two polymorphisms.\n",
    "\n",
    "The main function to read these files is `read_snp_pop(pop)`. This function reads the .snp file into a pandas dataframe, as in the below usage."
   ]
  },
  {
   "cell_type": "code",
   "execution_count": 3,
   "metadata": {},
   "outputs": [
    {
     "data": {
      "text/html": [
       "<div>\n",
       "<style scoped>\n",
       "    .dataframe tbody tr th:only-of-type {\n",
       "        vertical-align: middle;\n",
       "    }\n",
       "\n",
       "    .dataframe tbody tr th {\n",
       "        vertical-align: top;\n",
       "    }\n",
       "\n",
       "    .dataframe thead th {\n",
       "        text-align: right;\n",
       "    }\n",
       "</style>\n",
       "<table border=\"1\" class=\"dataframe\">\n",
       "  <thead>\n",
       "    <tr style=\"text-align: right;\">\n",
       "      <th></th>\n",
       "      <th>chromosome</th>\n",
       "      <th>morgans</th>\n",
       "      <th>position</th>\n",
       "      <th>ref</th>\n",
       "      <th>alt</th>\n",
       "    </tr>\n",
       "  </thead>\n",
       "  <tbody>\n",
       "    <tr>\n",
       "      <th>rs3131972</th>\n",
       "      <td>1</td>\n",
       "      <td>0.0</td>\n",
       "      <td>742584</td>\n",
       "      <td>G</td>\n",
       "      <td>A</td>\n",
       "    </tr>\n",
       "    <tr>\n",
       "      <th>rs3131969</th>\n",
       "      <td>1</td>\n",
       "      <td>0.0</td>\n",
       "      <td>744045</td>\n",
       "      <td>G</td>\n",
       "      <td>A</td>\n",
       "    </tr>\n",
       "    <tr>\n",
       "      <th>rs3131967</th>\n",
       "      <td>1</td>\n",
       "      <td>0.0</td>\n",
       "      <td>744197</td>\n",
       "      <td>C</td>\n",
       "      <td>T</td>\n",
       "    </tr>\n",
       "    <tr>\n",
       "      <th>rs1048488</th>\n",
       "      <td>1</td>\n",
       "      <td>0.0</td>\n",
       "      <td>750775</td>\n",
       "      <td>T</td>\n",
       "      <td>C</td>\n",
       "    </tr>\n",
       "    <tr>\n",
       "      <th>rs12562034</th>\n",
       "      <td>1</td>\n",
       "      <td>0.0</td>\n",
       "      <td>758311</td>\n",
       "      <td>G</td>\n",
       "      <td>A</td>\n",
       "    </tr>\n",
       "  </tbody>\n",
       "</table>\n",
       "</div>"
      ],
      "text/plain": [
       "            chromosome  morgans  position ref alt\n",
       "rs3131972            1      0.0    742584   G   A\n",
       "rs3131969            1      0.0    744045   G   A\n",
       "rs3131967            1      0.0    744197   C   T\n",
       "rs1048488            1      0.0    750775   T   C\n",
       "rs12562034           1      0.0    758311   G   A"
      ]
     },
     "execution_count": 3,
     "metadata": {},
     "output_type": "execute_result"
    }
   ],
   "source": [
    "chb_snp = read_snp_pop(\"CHB\")\n",
    "chb_snp.head()"
   ]
  },
  {
   "cell_type": "markdown",
   "metadata": {},
   "source": [
    "The function creates a dataframe indexed by SNP, with features corresponding to the chromosome of the SNP, the position in morgans, the physical position of the SNP, the ancestral SNP, and the derived SNP.\n",
    "\n",
    "This function relies on some other helper functions; see the end of this file for documentation on those.\n",
    "\n",
    "#### .ind Files\n",
    "All files ending with `.ind` specify the number of individuals in the population as the number of rows in the file, and some identifying characteristics about them (unique ID number, sex, and population).\n",
    "\n",
    "This file is read using `read_ind_pop(pop)`, which specifies a population and reads in the corresponding file as a pandas dataframe, as in the below example."
   ]
  },
  {
   "cell_type": "code",
   "execution_count": 5,
   "metadata": {},
   "outputs": [
    {
     "data": {
      "text/html": [
       "<div>\n",
       "<style scoped>\n",
       "    .dataframe tbody tr th:only-of-type {\n",
       "        vertical-align: middle;\n",
       "    }\n",
       "\n",
       "    .dataframe tbody tr th {\n",
       "        vertical-align: top;\n",
       "    }\n",
       "\n",
       "    .dataframe thead th {\n",
       "        text-align: right;\n",
       "    }\n",
       "</style>\n",
       "<table border=\"1\" class=\"dataframe\">\n",
       "  <thead>\n",
       "    <tr style=\"text-align: right;\">\n",
       "      <th></th>\n",
       "      <th>sex</th>\n",
       "      <th>pop</th>\n",
       "    </tr>\n",
       "  </thead>\n",
       "  <tbody>\n",
       "    <tr>\n",
       "      <th>NA18597</th>\n",
       "      <td>F</td>\n",
       "      <td>CHB</td>\n",
       "    </tr>\n",
       "    <tr>\n",
       "      <th>NA18615</th>\n",
       "      <td>F</td>\n",
       "      <td>CHB</td>\n",
       "    </tr>\n",
       "    <tr>\n",
       "      <th>NA18557</th>\n",
       "      <td>M</td>\n",
       "      <td>CHB</td>\n",
       "    </tr>\n",
       "    <tr>\n",
       "      <th>NA18628</th>\n",
       "      <td>F</td>\n",
       "      <td>CHB</td>\n",
       "    </tr>\n",
       "    <tr>\n",
       "      <th>NA18745</th>\n",
       "      <td>M</td>\n",
       "      <td>CHB</td>\n",
       "    </tr>\n",
       "  </tbody>\n",
       "</table>\n",
       "</div>"
      ],
      "text/plain": [
       "        sex  pop\n",
       "NA18597   F  CHB\n",
       "NA18615   F  CHB\n",
       "NA18557   M  CHB\n",
       "NA18628   F  CHB\n",
       "NA18745   M  CHB"
      ]
     },
     "execution_count": 5,
     "metadata": {},
     "output_type": "execute_result"
    }
   ],
   "source": [
    "chb_pop = read_ind_pop(\"CHB\")\n",
    "chb_pop.head()"
   ]
  },
  {
   "cell_type": "markdown",
   "metadata": {},
   "source": [
    "This function relies on some other helper functions; see the end of this file for documentation on those.\n",
    "\n",
    "#### .geno Files\n",
    "All files ending with `.geno` specify as many rows as there are in the matching `.snp` file. These files contain rows of 0, 1, or 2; the number of characters in the row matches the number of individuals in the matching `.ind` file. Essentially, each SNP forms a row, and each individual forms a column. The 0, 1, or 2 specifies the number of the SNP that are present in that individual’s chromosome.\n",
    "\n",
    "Two functions are used to read in these files, both of which create a numpy matrix. The first will read the entire file, in the form of `read_geno_pop(pop)`, as in the below example. NOTE: Due to the large size of these files, this may take a while!"
   ]
  },
  {
   "cell_type": "code",
   "execution_count": 7,
   "metadata": {},
   "outputs": [
    {
     "data": {
      "text/plain": [
       "masked_array(data=[2, 1, 2, 2, 2, 1, 2, 2, 1, 2, 2, 2, 2, 2, 2, 2, 2, 1,\n",
       "                   2, 2, 2, 2, 2, 2, 1, 2, 2, 2, 2, 2, 2, 1, 2, 2, 2, 1,\n",
       "                   2, 2, 2, 1, 2, 2, 2, 1, 2, 2, 2, 1, 2, 1, 2, 2, 2, 2,\n",
       "                   2, 2, 1, 2, 2, 2, 2, 2, 2, 2, 1, 2, 2, 2, 1, 2, 2, 1,\n",
       "                   2, 2, 1, 1, 2, 2, 2, 2, 2, 2, 2, 2],\n",
       "             mask=[False, False, False, False, False, False, False, False,\n",
       "                   False, False, False, False, False, False, False, False,\n",
       "                   False, False, False, False, False, False, False, False,\n",
       "                   False, False, False, False, False, False, False, False,\n",
       "                   False, False, False, False, False, False, False, False,\n",
       "                   False, False, False, False, False, False, False, False,\n",
       "                   False, False, False, False, False, False, False, False,\n",
       "                   False, False, False, False, False, False, False, False,\n",
       "                   False, False, False, False, False, False, False, False,\n",
       "                   False, False, False, False, False, False, False, False,\n",
       "                   False, False, False, False],\n",
       "       fill_value=999999,\n",
       "            dtype=uint8)"
      ]
     },
     "execution_count": 7,
     "metadata": {},
     "output_type": "execute_result"
    }
   ],
   "source": [
    "chb_geno = read_geno_pop(\"CHB\")\n",
    "chb_geno[5]"
   ]
  },
  {
   "cell_type": "markdown",
   "metadata": {},
   "source": [
    "This produces both a data matrix and a masked matrix in one object. The masked matrix corresponds to missing values indicated with a `True` in the mask or a 9 in the data matrix.\n",
    "\n",
    "However, due to the large size of these files, there is another function that reads in these datapoints that correspond only to a specific indicated chromosome (integer), in the form of `read_geno_pop_chr(pop, chr)`, as in the following example:"
   ]
  },
  {
   "cell_type": "code",
   "execution_count": 8,
   "metadata": {},
   "outputs": [
    {
     "data": {
      "text/plain": [
       "masked_array(data=[2, 1, 2, 2, 2, 1, 2, 2, 1, 2, 2, 2, 2, 2, 2, 2, 2, 1,\n",
       "                   2, 2, 2, 2, 2, 2, 1, 2, 2, 2, 2, 2, 2, 1, 2, 2, 2, 1,\n",
       "                   2, 2, 2, 1, 2, 2, 2, 1, 2, 2, 2, 1, 2, 1, 2, 2, 2, 2,\n",
       "                   2, 2, 1, 2, 2, 2, 2, 2, 2, 2, 1, 2, 2, 2, 1, 2, 2, 1,\n",
       "                   2, 2, 1, 1, 2, 2, 2, 2, 2, 2, 2, 2],\n",
       "             mask=[False, False, False, False, False, False, False, False,\n",
       "                   False, False, False, False, False, False, False, False,\n",
       "                   False, False, False, False, False, False, False, False,\n",
       "                   False, False, False, False, False, False, False, False,\n",
       "                   False, False, False, False, False, False, False, False,\n",
       "                   False, False, False, False, False, False, False, False,\n",
       "                   False, False, False, False, False, False, False, False,\n",
       "                   False, False, False, False, False, False, False, False,\n",
       "                   False, False, False, False, False, False, False, False,\n",
       "                   False, False, False, False, False, False, False, False,\n",
       "                   False, False, False, False],\n",
       "       fill_value=999999,\n",
       "            dtype=uint8)"
      ]
     },
     "execution_count": 8,
     "metadata": {},
     "output_type": "execute_result"
    }
   ],
   "source": [
    "chb_geno_chr1 = read_geno_pop_chr(\"CHB\", 1)\n",
    "chb_geno_chr1[5]"
   ]
  },
  {
   "cell_type": "markdown",
   "metadata": {},
   "source": [
    "This function relies on some other helper functions; see the end of this file for documentation on those.\n",
    "\n",
    "### Other Helpful Functions\n",
    "\n",
    "The variable `SNPs` is a predefined variable found in the accompanied .py file that simply stores the output of `read_snp_pop('HapMap3')`. This contains information about all the SNPs that were recorded in the HapMap3 project.\n",
    "\n",
    "Related to this is the function `get_chr_range(chr)`. This function takes in a chromosome number and returns the start and stop positions for the SNPs on that chromosome, found specifically in the `SNPs` variable.\n",
    "\n",
    "### Further Documentation\n",
    "\n",
    "* `pname(name)`: Takes in a file name and adds the prespecified path to the beginning; returns this string.\n",
    "* `popen(name)`: Opens the file specified in the `name` argument.\n",
    "* `read_snp(file)`: Performs the actual reading of the .snp file into a pandas dataframe, taking in a filename string and returning the dataframe. Due to the need to use multiple population data files in these assignments, we recommend using `read_snp_pop(pop)` instead.\n",
    "* `read_ind(file)`: Performs the actual reading of the .ind file into a pandas dataframe, taking in a filename string and returning the dataframe. Due to the need to use multiple population data files in these assignments, we recommend using `read_ind_pop(pop)` instead.\n",
    "* `read_geno(file)`: Performs the actual reading of the .geno file into a numpy matrix, taking in a filename string and returning the matrix. Due to the need to use multiple population data files in these assignments, we recommend using `read_geno_pop(pop)` or `read_geno_pop_chr(pop, chr)` instead."
   ]
  }
 ],
 "metadata": {
  "kernelspec": {
   "display_name": "base",
   "language": "python",
   "name": "python3"
  },
  "language_info": {
   "codemirror_mode": {
    "name": "ipython",
    "version": 3
   },
   "file_extension": ".py",
   "mimetype": "text/x-python",
   "name": "python",
   "nbconvert_exporter": "python",
   "pygments_lexer": "ipython3",
   "version": "3.9.7"
  }
 },
 "nbformat": 4,
 "nbformat_minor": 2
}
